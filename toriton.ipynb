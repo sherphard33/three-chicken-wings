{
 "cells": [
  {
   "cell_type": "code",
   "execution_count": 2,
   "metadata": {},
   "outputs": [
    {
     "name": "stdout",
     "output_type": "stream",
     "text": [
      "Requirement already satisfied: tritonclient[all] in /Users/shephardmarufu/Library/Python/3.11/lib/python/site-packages (2.36.0)\n",
      "Requirement already satisfied: numpy>=1.19.1 in /usr/local/lib/python3.11/site-packages (from tritonclient[all]) (1.26.4)\n",
      "Requirement already satisfied: python-rapidjson>=0.9.1 in /usr/local/lib/python3.11/site-packages (from tritonclient[all]) (1.18)\n",
      "Collecting protobuf<4,>=3.5.0 (from tritonclient[all])\n",
      "  Using cached protobuf-3.20.3-py2.py3-none-any.whl.metadata (720 bytes)\n",
      "Requirement already satisfied: grpcio>=1.41.0 in /usr/local/lib/python3.11/site-packages (from tritonclient[all]) (1.65.5)\n",
      "Requirement already satisfied: packaging>=14.1 in /usr/local/lib/python3.11/site-packages (from tritonclient[all]) (24.0)\n",
      "Requirement already satisfied: geventhttpclient<=2.0.2,>=1.4.4 in /Users/shephardmarufu/Library/Python/3.11/lib/python/site-packages (from tritonclient[all]) (2.0.2)\n",
      "Requirement already satisfied: aiohttp<4.0.0,>=3.8.1 in /usr/local/lib/python3.11/site-packages (from tritonclient[all]) (3.9.5)\n",
      "Requirement already satisfied: aiosignal>=1.1.2 in /usr/local/lib/python3.11/site-packages (from aiohttp<4.0.0,>=3.8.1->tritonclient[all]) (1.3.1)\n",
      "Requirement already satisfied: attrs>=17.3.0 in /usr/local/lib/python3.11/site-packages (from aiohttp<4.0.0,>=3.8.1->tritonclient[all]) (23.2.0)\n",
      "Requirement already satisfied: frozenlist>=1.1.1 in /usr/local/lib/python3.11/site-packages (from aiohttp<4.0.0,>=3.8.1->tritonclient[all]) (1.4.1)\n",
      "Requirement already satisfied: multidict<7.0,>=4.5 in /usr/local/lib/python3.11/site-packages (from aiohttp<4.0.0,>=3.8.1->tritonclient[all]) (6.0.5)\n",
      "Requirement already satisfied: yarl<2.0,>=1.0 in /usr/local/lib/python3.11/site-packages (from aiohttp<4.0.0,>=3.8.1->tritonclient[all]) (1.9.4)\n",
      "Requirement already satisfied: gevent>=0.13 in /Users/shephardmarufu/Library/Python/3.11/lib/python/site-packages (from geventhttpclient<=2.0.2,>=1.4.4->tritonclient[all]) (24.11.1)\n",
      "Requirement already satisfied: certifi in /usr/local/lib/python3.11/site-packages (from geventhttpclient<=2.0.2,>=1.4.4->tritonclient[all]) (2024.6.2)\n",
      "Requirement already satisfied: six in /usr/local/lib/python3.11/site-packages (from geventhttpclient<=2.0.2,>=1.4.4->tritonclient[all]) (1.16.0)\n",
      "Requirement already satisfied: brotli in /usr/local/lib/python3.11/site-packages (from geventhttpclient<=2.0.2,>=1.4.4->tritonclient[all]) (1.1.0)\n",
      "Requirement already satisfied: zope.event in /usr/local/lib/python3.11/site-packages (from gevent>=0.13->geventhttpclient<=2.0.2,>=1.4.4->tritonclient[all]) (5.0)\n",
      "Requirement already satisfied: zope.interface in /usr/local/lib/python3.11/site-packages (from gevent>=0.13->geventhttpclient<=2.0.2,>=1.4.4->tritonclient[all]) (7.2)\n",
      "Requirement already satisfied: greenlet>=3.1.1 in /Users/shephardmarufu/Library/Python/3.11/lib/python/site-packages (from gevent>=0.13->geventhttpclient<=2.0.2,>=1.4.4->tritonclient[all]) (3.1.1)\n",
      "Requirement already satisfied: idna>=2.0 in /usr/local/lib/python3.11/site-packages (from yarl<2.0,>=1.0->aiohttp<4.0.0,>=3.8.1->tritonclient[all]) (3.7)\n",
      "Requirement already satisfied: setuptools in /usr/local/lib/python3.11/site-packages (from zope.event->gevent>=0.13->geventhttpclient<=2.0.2,>=1.4.4->tritonclient[all]) (74.1.2)\n",
      "Using cached protobuf-3.20.3-py2.py3-none-any.whl (162 kB)\n",
      "Installing collected packages: protobuf\n",
      "  Attempting uninstall: protobuf\n",
      "    Found existing installation: protobuf 5.29.2\n",
      "    Uninstalling protobuf-5.29.2:\n",
      "      Successfully uninstalled protobuf-5.29.2\n",
      "\u001b[31mERROR: pip's dependency resolver does not currently take into account all the packages that are installed. This behaviour is the source of the following dependency conflicts.\n",
      "skl2onnx 1.17.0 requires onnxconverter-common>=1.7.0, which is not installed.\n",
      "opentelemetry-exporter-otlp-proto-grpc 1.27.0 requires opentelemetry-proto==1.27.0, which is not installed.\n",
      "google-cloud-resource-manager 1.12.4 requires google-api-core[grpc]!=2.0.*,!=2.1.*,!=2.10.*,!=2.2.*,!=2.3.*,!=2.4.*,!=2.5.*,!=2.6.*,!=2.7.*,!=2.8.*,!=2.9.*,<3.0.0dev,>=1.34.1, which is not installed.\n",
      "google-cloud-resource-manager 1.12.4 requires proto-plus<2.0.0dev,>=1.22.3, which is not installed.\n",
      "google-generativeai 0.5.4 requires google-ai-generativelanguage==0.6.4, which is not installed.\n",
      "google-generativeai 0.5.4 requires google-api-core, which is not installed.\n",
      "grpcio-status 1.62.2 requires protobuf>=4.21.6, but you have protobuf 3.20.3 which is incompatible.\n",
      "grpcio-tools 1.65.5 requires protobuf<6.0dev,>=5.26.1, but you have protobuf 3.20.3 which is incompatible.\u001b[0m\u001b[31m\n",
      "\u001b[0mSuccessfully installed protobuf-4.25.5\n",
      "\n",
      "\u001b[1m[\u001b[0m\u001b[34;49mnotice\u001b[0m\u001b[1;39;49m]\u001b[0m\u001b[39;49m A new release of pip is available: \u001b[0m\u001b[31;49m24.2\u001b[0m\u001b[39;49m -> \u001b[0m\u001b[32;49m24.3.1\u001b[0m\n",
      "\u001b[1m[\u001b[0m\u001b[34;49mnotice\u001b[0m\u001b[1;39;49m]\u001b[0m\u001b[39;49m To update, run: \u001b[0m\u001b[32;49mpython3.11 -m pip install --upgrade pip\u001b[0m\n"
     ]
    }
   ],
   "source": [
    "!pip install \"tritonclient[all]\""
   ]
  },
  {
   "cell_type": "code",
   "execution_count": 3,
   "metadata": {},
   "outputs": [
    {
     "name": "stdout",
     "output_type": "stream",
     "text": [
      "Downloading https://github.com/ultralytics/assets/releases/download/v8.3.0/yolo11n.pt to 'yolo11n.pt'...\n"
     ]
    },
    {
     "name": "stderr",
     "output_type": "stream",
     "text": [
      "100%|██████████| 5.35M/5.35M [00:10<00:00, 520kB/s] \n"
     ]
    },
    {
     "name": "stdout",
     "output_type": "stream",
     "text": [
      "Ultralytics 8.3.51 🚀 Python-3.11.10 torch-2.2.2 CPU (Apple M1)\n",
      "YOLO11n summary (fused): 238 layers, 2,616,248 parameters, 0 gradients, 6.5 GFLOPs\n"
     ]
    },
    {
     "name": "stderr",
     "output_type": "stream",
     "text": [
      "[W NNPACK.cpp:64] Could not initialize NNPACK! Reason: Unsupported hardware.\n"
     ]
    },
    {
     "name": "stdout",
     "output_type": "stream",
     "text": [
      "\n",
      "\u001b[34m\u001b[1mPyTorch:\u001b[0m starting from 'yolo11n.pt' with input shape (1, 3, 640, 640) BCHW and output shape(s) (1, 84, 8400) (5.4 MB)\n",
      "\n",
      "\u001b[34m\u001b[1mONNX:\u001b[0m starting export with onnx 1.16.1 opset 17...\n",
      "\u001b[34m\u001b[1mONNX:\u001b[0m slimming with onnxslim 0.1.44...\n",
      "\u001b[34m\u001b[1mONNX:\u001b[0m export success ✅ 13.8s, saved as 'yolo11n.onnx' (10.1 MB)\n",
      "\n",
      "Export complete (14.4s)\n",
      "Results saved to \u001b[1m/Users/shephardmarufu/Documents/development/experiments/gofer\u001b[0m\n",
      "Predict:         yolo predict task=detect model=yolo11n.onnx imgsz=640  \n",
      "Validate:        yolo val task=detect model=yolo11n.onnx imgsz=640 data=/usr/src/ultralytics/ultralytics/cfg/datasets/coco.yaml  \n",
      "Visualize:       https://netron.app\n"
     ]
    }
   ],
   "source": [
    "from ultralytics import YOLO\n",
    "\n",
    "# Load a model\n",
    "model = YOLO(\"yolo11n.pt\")  # load an official model\n",
    "\n",
    "# Retreive metadata during export\n",
    "metadata = []\n",
    "\n",
    "\n",
    "def export_cb(exporter):\n",
    "    metadata.append(exporter.metadata)\n",
    "\n",
    "\n",
    "model.add_callback(\"on_export_end\", export_cb)\n",
    "\n",
    "# Export the model\n",
    "onnx_file = model.export(format=\"onnx\", dynamic=True)"
   ]
  },
  {
   "cell_type": "code",
   "execution_count": 1,
   "metadata": {},
   "outputs": [],
   "source": [
    "from pathlib import Path\n",
    "\n",
    "# Define paths\n",
    "model_name = \"yolo\"\n",
    "triton_repo_path = Path(\"tmp\") / \"triton_repo\"\n",
    "triton_model_path = triton_repo_path / model_name\n",
    "\n",
    "# Create directories\n",
    "(triton_model_path / \"1\").mkdir(parents=True, exist_ok=True)"
   ]
  },
  {
   "cell_type": "code",
   "execution_count": 3,
   "metadata": {},
   "outputs": [
    {
     "name": "stdout",
     "output_type": "stream",
     "text": [
      "docker run -d --rm -v tmp/triton_repo:/models -p 8000:8000 nvcr.io/nvidia/tritonserver:24.09-py3 tritonserver --model-repository=/models\n"
     ]
    }
   ],
   "source": [
    "tag = \"nvcr.io/nvidia/tritonserver:24.09-py3\"\n",
    "cmd_dc=f\"docker run -d --rm -v {triton_repo_path}:/models -p 8000:8000 {tag} tritonserver --model-repository=/models\"\n",
    "print(cmd_dc)"
   ]
  },
  {
   "cell_type": "code",
   "execution_count": 5,
   "metadata": {},
   "outputs": [],
   "source": [
    "from pathlib import Path\n",
    "\n",
    "# Move ONNX model to Triton Model path\n",
    "Path(onnx_file).rename(triton_model_path / \"1\" / \"model.onnx\")\n",
    "\n",
    "# Create config file\n",
    "(triton_model_path / \"config.pbtxt\").touch()\n",
    "\n",
    "# (Optional) Enable TensorRT for GPU inference\n",
    "# First run will be slow due to TensorRT engine conversion\n",
    "data = \"\"\"\n",
    "optimization {\n",
    "  execution_accelerators {\n",
    "    gpu_execution_accelerator {\n",
    "      name: \"tensorrt\"\n",
    "      parameters {\n",
    "        key: \"precision_mode\"\n",
    "        value: \"FP16\"\n",
    "      }\n",
    "      parameters {\n",
    "        key: \"max_workspace_size_bytes\"\n",
    "        value: \"3221225472\"\n",
    "      }\n",
    "      parameters {\n",
    "        key: \"trt_engine_cache_enable\"\n",
    "        value: \"1\"\n",
    "      }\n",
    "      parameters {\n",
    "        key: \"trt_engine_cache_path\"\n",
    "        value: \"/models/yolo/1\"\n",
    "      }\n",
    "    }\n",
    "  }\n",
    "}\n",
    "parameters {\n",
    "  key: \"metadata\"\n",
    "  value: {\n",
    "    string_value: \"%s\"\n",
    "  }\n",
    "}\n",
    "\"\"\" % metadata[0]\n",
    "\n",
    "with open(triton_model_path / \"config.pbtxt\", \"w\") as f:\n",
    "    f.write(data)"
   ]
  },
  {
   "cell_type": "code",
   "execution_count": 6,
   "metadata": {},
   "outputs": [
    {
     "name": "stderr",
     "output_type": "stream",
     "text": [
      "Cannot connect to the Docker daemon at unix:///Users/shephardmarufu/.docker/run/docker.sock. Is the docker daemon running?\n",
      "docker: Cannot connect to the Docker daemon at unix:///Users/shephardmarufu/.docker/run/docker.sock. Is the docker daemon running?.\n",
      "See 'docker run --help'.\n"
     ]
    },
    {
     "ename": "CalledProcessError",
     "evalue": "Command 'docker run -d --rm --gpus 0 -v tmp/triton_repo:/models -p 8000:8000 nvcr.io/nvidia/tritonserver:24.09-py3 tritonserver --model-repository=/models' returned non-zero exit status 125.",
     "output_type": "error",
     "traceback": [
      "\u001b[0;31m---------------------------------------------------------------------------\u001b[0m",
      "\u001b[0;31mCalledProcessError\u001b[0m                        Traceback (most recent call last)",
      "Cell \u001b[0;32mIn[6], line 15\u001b[0m\n\u001b[1;32m     11\u001b[0m subprocess\u001b[38;5;241m.\u001b[39mcall(\u001b[38;5;124mf\u001b[39m\u001b[38;5;124m\"\u001b[39m\u001b[38;5;124mdocker pull \u001b[39m\u001b[38;5;132;01m{\u001b[39;00mtag\u001b[38;5;132;01m}\u001b[39;00m\u001b[38;5;124m\"\u001b[39m, shell\u001b[38;5;241m=\u001b[39m\u001b[38;5;28;01mTrue\u001b[39;00m)\n\u001b[1;32m     13\u001b[0m \u001b[38;5;66;03m# Run the Triton server and capture the container ID\u001b[39;00m\n\u001b[1;32m     14\u001b[0m container_id \u001b[38;5;241m=\u001b[39m (\n\u001b[0;32m---> 15\u001b[0m     \u001b[43msubprocess\u001b[49m\u001b[38;5;241;43m.\u001b[39;49m\u001b[43mcheck_output\u001b[49m\u001b[43m(\u001b[49m\n\u001b[1;32m     16\u001b[0m \u001b[43m        \u001b[49m\u001b[38;5;124;43mf\u001b[39;49m\u001b[38;5;124;43m\"\u001b[39;49m\u001b[38;5;124;43mdocker run -d --rm --gpus 0 -v \u001b[39;49m\u001b[38;5;132;43;01m{\u001b[39;49;00m\u001b[43mtriton_repo_path\u001b[49m\u001b[38;5;132;43;01m}\u001b[39;49;00m\u001b[38;5;124;43m:/models -p 8000:8000 \u001b[39;49m\u001b[38;5;132;43;01m{\u001b[39;49;00m\u001b[43mtag\u001b[49m\u001b[38;5;132;43;01m}\u001b[39;49;00m\u001b[38;5;124;43m tritonserver --model-repository=/models\u001b[39;49m\u001b[38;5;124;43m\"\u001b[39;49m\u001b[43m,\u001b[49m\n\u001b[1;32m     17\u001b[0m \u001b[43m        \u001b[49m\u001b[43mshell\u001b[49m\u001b[38;5;241;43m=\u001b[39;49m\u001b[38;5;28;43;01mTrue\u001b[39;49;00m\u001b[43m,\u001b[49m\n\u001b[1;32m     18\u001b[0m \u001b[43m    \u001b[49m\u001b[43m)\u001b[49m\n\u001b[1;32m     19\u001b[0m     \u001b[38;5;241m.\u001b[39mdecode(\u001b[38;5;124m\"\u001b[39m\u001b[38;5;124mutf-8\u001b[39m\u001b[38;5;124m\"\u001b[39m)\n\u001b[1;32m     20\u001b[0m     \u001b[38;5;241m.\u001b[39mstrip()\n\u001b[1;32m     21\u001b[0m )\n\u001b[1;32m     23\u001b[0m \u001b[38;5;66;03m# Wait for the Triton server to start\u001b[39;00m\n\u001b[1;32m     24\u001b[0m triton_client \u001b[38;5;241m=\u001b[39m InferenceServerClient(url\u001b[38;5;241m=\u001b[39m\u001b[38;5;124m\"\u001b[39m\u001b[38;5;124mlocalhost:8000\u001b[39m\u001b[38;5;124m\"\u001b[39m, verbose\u001b[38;5;241m=\u001b[39m\u001b[38;5;28;01mFalse\u001b[39;00m, ssl\u001b[38;5;241m=\u001b[39m\u001b[38;5;28;01mFalse\u001b[39;00m)\n",
      "File \u001b[0;32m/usr/local/Cellar/python@3.11/3.11.10/Frameworks/Python.framework/Versions/3.11/lib/python3.11/subprocess.py:466\u001b[0m, in \u001b[0;36mcheck_output\u001b[0;34m(timeout, *popenargs, **kwargs)\u001b[0m\n\u001b[1;32m    463\u001b[0m         empty \u001b[38;5;241m=\u001b[39m \u001b[38;5;124mb\u001b[39m\u001b[38;5;124m'\u001b[39m\u001b[38;5;124m'\u001b[39m\n\u001b[1;32m    464\u001b[0m     kwargs[\u001b[38;5;124m'\u001b[39m\u001b[38;5;124minput\u001b[39m\u001b[38;5;124m'\u001b[39m] \u001b[38;5;241m=\u001b[39m empty\n\u001b[0;32m--> 466\u001b[0m \u001b[38;5;28;01mreturn\u001b[39;00m \u001b[43mrun\u001b[49m\u001b[43m(\u001b[49m\u001b[38;5;241;43m*\u001b[39;49m\u001b[43mpopenargs\u001b[49m\u001b[43m,\u001b[49m\u001b[43m \u001b[49m\u001b[43mstdout\u001b[49m\u001b[38;5;241;43m=\u001b[39;49m\u001b[43mPIPE\u001b[49m\u001b[43m,\u001b[49m\u001b[43m \u001b[49m\u001b[43mtimeout\u001b[49m\u001b[38;5;241;43m=\u001b[39;49m\u001b[43mtimeout\u001b[49m\u001b[43m,\u001b[49m\u001b[43m \u001b[49m\u001b[43mcheck\u001b[49m\u001b[38;5;241;43m=\u001b[39;49m\u001b[38;5;28;43;01mTrue\u001b[39;49;00m\u001b[43m,\u001b[49m\n\u001b[1;32m    467\u001b[0m \u001b[43m           \u001b[49m\u001b[38;5;241;43m*\u001b[39;49m\u001b[38;5;241;43m*\u001b[39;49m\u001b[43mkwargs\u001b[49m\u001b[43m)\u001b[49m\u001b[38;5;241m.\u001b[39mstdout\n",
      "File \u001b[0;32m/usr/local/Cellar/python@3.11/3.11.10/Frameworks/Python.framework/Versions/3.11/lib/python3.11/subprocess.py:571\u001b[0m, in \u001b[0;36mrun\u001b[0;34m(input, capture_output, timeout, check, *popenargs, **kwargs)\u001b[0m\n\u001b[1;32m    569\u001b[0m     retcode \u001b[38;5;241m=\u001b[39m process\u001b[38;5;241m.\u001b[39mpoll()\n\u001b[1;32m    570\u001b[0m     \u001b[38;5;28;01mif\u001b[39;00m check \u001b[38;5;129;01mand\u001b[39;00m retcode:\n\u001b[0;32m--> 571\u001b[0m         \u001b[38;5;28;01mraise\u001b[39;00m CalledProcessError(retcode, process\u001b[38;5;241m.\u001b[39margs,\n\u001b[1;32m    572\u001b[0m                                  output\u001b[38;5;241m=\u001b[39mstdout, stderr\u001b[38;5;241m=\u001b[39mstderr)\n\u001b[1;32m    573\u001b[0m \u001b[38;5;28;01mreturn\u001b[39;00m CompletedProcess(process\u001b[38;5;241m.\u001b[39margs, retcode, stdout, stderr)\n",
      "\u001b[0;31mCalledProcessError\u001b[0m: Command 'docker run -d --rm --gpus 0 -v tmp/triton_repo:/models -p 8000:8000 nvcr.io/nvidia/tritonserver:24.09-py3 tritonserver --model-repository=/models' returned non-zero exit status 125."
     ]
    }
   ],
   "source": [
    "import contextlib\n",
    "import subprocess\n",
    "import time\n",
    "\n",
    "from tritonclient.http import InferenceServerClient\n",
    "\n",
    "# Define image https://catalog.ngc.nvidia.com/orgs/nvidia/containers/tritonserver\n",
    "tag = \"nvcr.io/nvidia/tritonserver:24.09-py3\"  # 8.57 GB\n",
    "\n",
    "# Pull the image\n",
    "subprocess.call(f\"docker pull {tag}\", shell=True)\n",
    "\n",
    "# Run the Triton server and capture the container ID\n",
    "container_id = (\n",
    "    subprocess.check_output(\n",
    "        f\"docker run -d --rm -v {triton_repo_path}:/models -p 8000:8000 {tag} tritonserver --model-repository=/models\",\n",
    "        shell=True,\n",
    "    )\n",
    "    .decode(\"utf-8\")\n",
    "    .strip()\n",
    ")\n",
    "\n",
    "# Wait for the Triton server to start\n",
    "triton_client = InferenceServerClient(url=\"localhost:8000\", verbose=False, ssl=False)\n",
    "\n",
    "# Wait until model is ready\n",
    "for _ in range(10):\n",
    "    with contextlib.suppress(Exception):\n",
    "        assert triton_client.is_model_ready(model_name)\n",
    "        break\n",
    "    time.sleep(1)"
   ]
  },
  {
   "cell_type": "code",
   "execution_count": null,
   "metadata": {},
   "outputs": [],
   "source": []
  }
 ],
 "metadata": {
  "kernelspec": {
   "display_name": "Python 3",
   "language": "python",
   "name": "python3"
  },
  "language_info": {
   "codemirror_mode": {
    "name": "ipython",
    "version": 3
   },
   "file_extension": ".py",
   "mimetype": "text/x-python",
   "name": "python",
   "nbconvert_exporter": "python",
   "pygments_lexer": "ipython3",
   "version": "3.11.10"
  }
 },
 "nbformat": 4,
 "nbformat_minor": 2
}
